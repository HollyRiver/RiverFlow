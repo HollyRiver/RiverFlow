{
 "cells": [
  {
   "cell_type": "markdown",
   "id": "bffd1354-668f-4a72-90b2-a4a88ee3488d",
   "metadata": {},
   "source": [
    "---\n",
    "title: \"R 기초 문법\"\n",
    "author: \"강신성\"\n",
    "date: \"2024-03-12\"\n",
    "categories: [Basic]\n",
    "---\n",
    "\n",
    "\n"
   ]
  },
  {
   "cell_type": "markdown",
   "id": "d1501458-f5d2-4379-a941-f870cc44f61c",
   "metadata": {},
   "source": [
    "> `R`의 필수적이고 기초적인 문법들을 한번에 싹 어셈블리해보자.~~(그렇게 거창하게는 아니고...)~~"
   ]
  },
  {
   "cell_type": "markdown",
   "id": "f3619ed7-1623-4b7b-9072-d3a32b93a36f",
   "metadata": {},
   "source": [
    "## 1. 사용할 라이브러리"
   ]
  },
  {
   "cell_type": "code",
   "execution_count": 24,
   "id": "0976df64-7cea-4444-b0fe-a30c08032623",
   "metadata": {},
   "outputs": [
    {
     "name": "stderr",
     "output_type": "stream",
     "text": [
      "Updating HTML index of packages in '.Library'\n",
      "\n",
      "Making 'packages.html' ...\n",
      " done\n",
      "\n"
     ]
    }
   ],
   "source": [
    "install.packages(\"Deriv\")\n",
    "library(Deriv)"
   ]
  },
  {
   "cell_type": "markdown",
   "id": "12748254-cced-4edb-b77b-f82ac5e8db81",
   "metadata": {},
   "source": [
    "## 2. 기초"
   ]
  },
  {
   "cell_type": "markdown",
   "id": "9a5e3161-f992-4bcf-a75a-5b475accc8fa",
   "metadata": {},
   "source": [
    "### **A. 기본기 중의 기본기**\n",
    "---\n",
    "\n",
    "\n"
   ]
  },
  {
   "cell_type": "markdown",
   "id": "4d02eba0-2f41-4795-a3b8-c20fb1f7dac8",
   "metadata": {},
   "source": [
    "##### `-` 원래 응당 헬로우 월드부터 하는 게... ~~우리 그럴 레벨 아니잖아요?~~\n",
    "\n",
    "> 그래도 해보자!"
   ]
  },
  {
   "cell_type": "code",
   "execution_count": 25,
   "id": "827d04cf-2f56-4cb1-a9cc-f353543e3ef7",
   "metadata": {},
   "outputs": [
    {
     "name": "stdout",
     "output_type": "stream",
     "text": [
      "[1] \"hello world!\"\n"
     ]
    }
   ],
   "source": [
    "print(\"hello world!\")"
   ]
  },
  {
   "cell_type": "markdown",
   "id": "a6a13b5f-e80c-4d5f-9656-433a876cbaec",
   "metadata": {},
   "source": [
    "##### `-` `rm(list = ls())`\n",
    "\n",
    "* 기존에 저장된 변수나 함수들을 전부 지우고 가볍게 시작한다. R의 경우는 프로그램을 종료해도 로그가 캐시로 남아있기 때문에...(정확한 표현은 아닌 것 같다) 분석 시작 때에 사용하면 용이하다."
   ]
  },
  {
   "cell_type": "code",
   "execution_count": 4,
   "id": "fafe866c-be0a-4b0d-8ce8-83bee0968b8f",
   "metadata": {},
   "outputs": [],
   "source": [
    "rm(list = ls())"
   ]
  },
  {
   "cell_type": "markdown",
   "id": "819bd843-e192-4b79-9905-d151c008bbef",
   "metadata": {},
   "source": [
    "`rm`(remove)함수에 `ls`(listing)를 리스트 파라미터로 받아 지워주는 방식이다. 변수들을 리스트로 `rm`함수에 집어넣을 수 있지만, `ls()` 자체는 들어가질 않아요."
   ]
  },
  {
   "cell_type": "markdown",
   "id": "65e59f63-afbb-4876-9cc2-817367dea6be",
   "metadata": {},
   "source": [
    "> R-studio등에서 실습하고 있다면, environment탭의 Data가 전부 깔끔하게 비워지는 것을 확인할 수 있다..."
   ]
  },
  {
   "cell_type": "markdown",
   "id": "a99ad10f-f1be-4e00-83d5-3af149d30457",
   "metadata": {},
   "source": [
    "### **B. 실수의 연산**\n",
    "\n",
    "\n",
    "---\n",
    "\n",
    "\n",
    "\n"
   ]
  },
  {
   "cell_type": "markdown",
   "id": "8dcbed63-7f60-4406-847b-f3f2031765cc",
   "metadata": {},
   "source": [
    "* 다른 프로그램에서 하는 것과 그냥 거의 동일하다고 보면 된다. 다른 것이나 몇 가지 추가된 게 있긴 하지만...(잘 안쓰니까)"
   ]
  },
  {
   "cell_type": "code",
   "execution_count": 27,
   "id": "6a6c11f8-94b4-4ba0-bfcd-92af998ec7e6",
   "metadata": {},
   "outputs": [
    {
     "data": {
      "text/html": [
       "579"
      ],
      "text/latex": [
       "579"
      ],
      "text/markdown": [
       "579"
      ],
      "text/plain": [
       "[1] 579"
      ]
     },
     "metadata": {},
     "output_type": "display_data"
    }
   ],
   "source": [
    "123 + 456 ## 더하기"
   ]
  },
  {
   "cell_type": "code",
   "execution_count": 28,
   "id": "cab9c3f9-af77-4baf-b3fb-cd5e9b0bf2be",
   "metadata": {},
   "outputs": [
    {
     "data": {
      "text/html": [
       "53"
      ],
      "text/latex": [
       "53"
      ],
      "text/markdown": [
       "53"
      ],
      "text/plain": [
       "[1] 53"
      ]
     },
     "metadata": {},
     "output_type": "display_data"
    }
   ],
   "source": [
    "164 - 111 ## 빼기"
   ]
  },
  {
   "cell_type": "code",
   "execution_count": 29,
   "id": "693db1c6-d6bd-49e4-a09a-dd93c78d9413",
   "metadata": {},
   "outputs": [
    {
     "data": {
      "text/html": [
       "565"
      ],
      "text/latex": [
       "565"
      ],
      "text/markdown": [
       "565"
      ],
      "text/plain": [
       "[1] 565"
      ]
     },
     "metadata": {},
     "output_type": "display_data"
    }
   ],
   "source": [
    "5*113  ## 곱하기"
   ]
  },
  {
   "cell_type": "code",
   "execution_count": 30,
   "id": "0acac815-12a8-4f00-88e6-4d2b00bcf1ba",
   "metadata": {},
   "outputs": [
    {
     "data": {
      "text/html": [
       "3"
      ],
      "text/latex": [
       "3"
      ],
      "text/markdown": [
       "3"
      ],
      "text/plain": [
       "[1] 3"
      ]
     },
     "metadata": {},
     "output_type": "display_data"
    }
   ],
   "source": [
    "12/4  ## 나누기"
   ]
  },
  {
   "cell_type": "code",
   "execution_count": 7,
   "id": "fcbc20ab-3f85-4d47-ae47-b4fec37add08",
   "metadata": {},
   "outputs": [
    {
     "name": "stdout",
     "output_type": "stream",
     "text": [
      "[1] 64\n",
      "[1] 64\n"
     ]
    }
   ],
   "source": [
    "print(2**6)  ## 제곱, 아래와 결과가 동일하다.\n",
    "print(2^6)"
   ]
  },
  {
   "cell_type": "markdown",
   "id": "4f0283ed-c850-4f27-a314-a30ba45c15fc",
   "metadata": {},
   "source": [
    "* 이 아래부터는 파이썬과 다르게 써야 한다..."
   ]
  },
  {
   "cell_type": "code",
   "execution_count": 32,
   "id": "f37781c0-d0aa-4eee-ab19-c91d23839666",
   "metadata": {},
   "outputs": [
    {
     "data": {
      "text/html": [
       "1"
      ],
      "text/latex": [
       "1"
      ],
      "text/markdown": [
       "1"
      ],
      "text/plain": [
       "[1] 1"
      ]
     },
     "metadata": {},
     "output_type": "display_data"
    }
   ],
   "source": [
    "13%%4  ## 나머지, 안타깝게도 그냥 %이 아니다..."
   ]
  },
  {
   "cell_type": "code",
   "execution_count": 33,
   "id": "b53b6d4c-a42b-4e60-a726-62675283c13d",
   "metadata": {},
   "outputs": [
    {
     "data": {
      "text/html": [
       "3"
      ],
      "text/latex": [
       "3"
      ],
      "text/markdown": [
       "3"
      ],
      "text/plain": [
       "[1] 3"
      ]
     },
     "metadata": {},
     "output_type": "display_data"
    }
   ],
   "source": [
    "13%/%4  ## 몫, 정말 안타깝게도 그냥 //이 아니다..."
   ]
  },
  {
   "cell_type": "markdown",
   "id": "67085bc1-3042-4dd5-996a-8ab670add576",
   "metadata": {},
   "source": [
    "### **C. 벡터, 리스트, 배열**\n",
    "\n",
    "\n",
    "---\n",
    "\n",
    "\n"
   ]
  },
  {
   "cell_type": "markdown",
   "id": "c44ecd00-626c-4bb1-a8ef-a7aec09eff82",
   "metadata": {},
   "source": [
    "* 벡터\n",
    "\n",
    "> 가장 기본적인 데이터 저장 방식이다. 이쪽이 어떻게 보면 다른 언어에서의 리스트와 가깝다."
   ]
  },
  {
   "cell_type": "code",
   "execution_count": 101,
   "id": "eab13c76-e874-4168-9447-38629f1e343e",
   "metadata": {},
   "outputs": [
    {
     "data": {
      "text/html": [
       "<style>\n",
       ".list-inline {list-style: none; margin:0; padding: 0}\n",
       ".list-inline>li {display: inline-block}\n",
       ".list-inline>li:not(:last-child)::after {content: \"\\00b7\"; padding: 0 .5ex}\n",
       "</style>\n",
       "<ol class=list-inline><li>1</li><li>2</li><li>5</li><li>8</li></ol>\n"
      ],
      "text/latex": [
       "\\begin{enumerate*}\n",
       "\\item 1\n",
       "\\item 2\n",
       "\\item 5\n",
       "\\item 8\n",
       "\\end{enumerate*}\n"
      ],
      "text/markdown": [
       "1. 1\n",
       "2. 2\n",
       "3. 5\n",
       "4. 8\n",
       "\n",
       "\n"
      ],
      "text/plain": [
       "[1] 1 2 5 8"
      ]
     },
     "metadata": {},
     "output_type": "display_data"
    }
   ],
   "source": [
    "c(1,2,5,8)  ## 직접 지정"
   ]
  },
  {
   "cell_type": "code",
   "execution_count": 94,
   "id": "de4b0fbc-4f24-482a-9588-279ef8002c30",
   "metadata": {},
   "outputs": [
    {
     "data": {
      "text/html": [
       "<style>\n",
       ".list-inline {list-style: none; margin:0; padding: 0}\n",
       ".list-inline>li {display: inline-block}\n",
       ".list-inline>li:not(:last-child)::after {content: \"\\00b7\"; padding: 0 .5ex}\n",
       "</style>\n",
       "<ol class=list-inline><li>1</li><li>2</li><li>3</li><li>4</li><li>5</li><li>6</li><li>7</li><li>8</li><li>9</li><li>10</li></ol>\n"
      ],
      "text/latex": [
       "\\begin{enumerate*}\n",
       "\\item 1\n",
       "\\item 2\n",
       "\\item 3\n",
       "\\item 4\n",
       "\\item 5\n",
       "\\item 6\n",
       "\\item 7\n",
       "\\item 8\n",
       "\\item 9\n",
       "\\item 10\n",
       "\\end{enumerate*}\n"
      ],
      "text/markdown": [
       "1. 1\n",
       "2. 2\n",
       "3. 3\n",
       "4. 4\n",
       "5. 5\n",
       "6. 6\n",
       "7. 7\n",
       "8. 8\n",
       "9. 9\n",
       "10. 10\n",
       "\n",
       "\n"
      ],
      "text/plain": [
       " [1]  1  2  3  4  5  6  7  8  9 10"
      ]
     },
     "metadata": {},
     "output_type": "display_data"
    }
   ],
   "source": [
    "c(1:10)  ## 순서대로"
   ]
  },
  {
   "cell_type": "code",
   "execution_count": 104,
   "id": "9188cc34-8509-438b-8874-723527cecc10",
   "metadata": {},
   "outputs": [
    {
     "data": {
      "text/html": [
       "<style>\n",
       ".list-inline {list-style: none; margin:0; padding: 0}\n",
       ".list-inline>li {display: inline-block}\n",
       ".list-inline>li:not(:last-child)::after {content: \"\\00b7\"; padding: 0 .5ex}\n",
       "</style>\n",
       "<ol class=list-inline><li>'1'</li><li>'2'</li><li>'3'</li><li>'4'</li></ol>\n"
      ],
      "text/latex": [
       "\\begin{enumerate*}\n",
       "\\item '1'\n",
       "\\item '2'\n",
       "\\item '3'\n",
       "\\item '4'\n",
       "\\end{enumerate*}\n"
      ],
      "text/markdown": [
       "1. '1'\n",
       "2. '2'\n",
       "3. '3'\n",
       "4. '4'\n",
       "\n",
       "\n"
      ],
      "text/plain": [
       "[1] \"1\" \"2\" \"3\" \"4\""
      ]
     },
     "metadata": {},
     "output_type": "display_data"
    }
   ],
   "source": [
    "c(1, '2', 3, 4)  ## 저장 형식은 다를 수 없음"
   ]
  },
  {
   "cell_type": "markdown",
   "id": "317b5f02-0410-49a1-8f6e-670aa6f29490",
   "metadata": {},
   "source": [
    "* 리스트\n",
    "\n",
    "> 사실상 딕셔너리라고 봐도 무방하다.(근데 딕셔너리는 따로 있을걸? 아마도...) 원소로 key와 value를 넣을 수 있고, 그 안에 또 key와 value를 넣는 등의 작업이 가능하다. value에는 어떠한 형태든 다 들어갈 수 있다.\n",
    ">\n",
    "> 대괄호로 리스트를 지정하는 것은 불가능하다. 대괄호는 슬라이싱에서만 사용할 수 있다..."
   ]
  },
  {
   "cell_type": "code",
   "execution_count": 81,
   "id": "13608027-e839-4498-a973-dd8152b149de",
   "metadata": {},
   "outputs": [],
   "source": [
    "lst <- list(a = c(1,2,3),'b',c = list('a', 'b', c = list(1,2,3)))"
   ]
  },
  {
   "cell_type": "code",
   "execution_count": 85,
   "id": "c5071339-fd78-4037-9d98-20e2f04da03c",
   "metadata": {},
   "outputs": [
    {
     "data": {
      "text/html": [
       "<style>\n",
       ".list-inline {list-style: none; margin:0; padding: 0}\n",
       ".list-inline>li {display: inline-block}\n",
       ".list-inline>li:not(:last-child)::after {content: \"\\00b7\"; padding: 0 .5ex}\n",
       "</style>\n",
       "<ol class=list-inline><li>1</li><li>2</li><li>3</li></ol>\n"
      ],
      "text/latex": [
       "\\begin{enumerate*}\n",
       "\\item 1\n",
       "\\item 2\n",
       "\\item 3\n",
       "\\end{enumerate*}\n"
      ],
      "text/markdown": [
       "1. 1\n",
       "2. 2\n",
       "3. 3\n",
       "\n",
       "\n"
      ],
      "text/plain": [
       "[1] 1 2 3"
      ]
     },
     "metadata": {},
     "output_type": "display_data"
    },
    {
     "data": {
      "text/html": [
       "<strong>$a</strong> = <style>\n",
       ".list-inline {list-style: none; margin:0; padding: 0}\n",
       ".list-inline>li {display: inline-block}\n",
       ".list-inline>li:not(:last-child)::after {content: \"\\00b7\"; padding: 0 .5ex}\n",
       "</style>\n",
       "<ol class=list-inline><li>1</li><li>2</li><li>3</li></ol>\n"
      ],
      "text/latex": [
       "\\textbf{\\$a} = \\begin{enumerate*}\n",
       "\\item 1\n",
       "\\item 2\n",
       "\\item 3\n",
       "\\end{enumerate*}\n"
      ],
      "text/markdown": [
       "**$a** = 1. 1\n",
       "2. 2\n",
       "3. 3\n",
       "\n",
       "\n"
      ],
      "text/plain": [
       "$a\n",
       "[1] 1 2 3\n"
      ]
     },
     "metadata": {},
     "output_type": "display_data"
    }
   ],
   "source": [
    "lst$a\n",
    "lst['a']"
   ]
  },
  {
   "cell_type": "code",
   "execution_count": 91,
   "id": "6fbd7d39-282f-42c9-9793-9854242a8fd4",
   "metadata": {},
   "outputs": [
    {
     "data": {
      "text/html": [
       "<ol>\n",
       "\t<li>1</li>\n",
       "\t<li>2</li>\n",
       "\t<li>3</li>\n",
       "</ol>\n"
      ],
      "text/latex": [
       "\\begin{enumerate}\n",
       "\\item 1\n",
       "\\item 2\n",
       "\\item 3\n",
       "\\end{enumerate}\n"
      ],
      "text/markdown": [
       "1. 1\n",
       "2. 2\n",
       "3. 3\n",
       "\n",
       "\n"
      ],
      "text/plain": [
       "[[1]]\n",
       "[1] 1\n",
       "\n",
       "[[2]]\n",
       "[1] 2\n",
       "\n",
       "[[3]]\n",
       "[1] 3\n"
      ]
     },
     "metadata": {},
     "output_type": "display_data"
    }
   ],
   "source": [
    "lst[['c']][['c']]"
   ]
  },
  {
   "cell_type": "markdown",
   "id": "09f4514c-1028-4af5-b971-5f69a9ecdf9c",
   "metadata": {},
   "source": [
    "> 호출은 대괄호`[]`나, 달러표시`$`를 이용하면 된다. 대괄호를 하나 더 넣어서 호출하면 내부 값만을 호출한다."
   ]
  },
  {
   "cell_type": "markdown",
   "id": "01f5b5d4-3dcd-413f-972d-6f2b8a09d135",
   "metadata": {},
   "source": [
    "* 배열\n",
    "\n",
    "> 파이썬에선 배열이나 행렬을 구현하기 위해서 따로 라이브러리를 들여오거나 함수를 구축해야만 했다. 하지만 R에선 자체적으로 행렬을 구현해놨다."
   ]
  },
  {
   "cell_type": "code",
   "execution_count": 149,
   "id": "5296b83a-91e9-47f9-93db-b40dae55b331",
   "metadata": {},
   "outputs": [
    {
     "data": {
      "text/html": [
       "<table class=\"dataframe\">\n",
       "<caption>A matrix: 2 × 3 of type int</caption>\n",
       "<thead>\n",
       "\t<tr><th></th><th scope=col>a</th><th scope=col>b</th><th scope=col>c</th></tr>\n",
       "</thead>\n",
       "<tbody>\n",
       "\t<tr><th scope=row>1</th><td>1</td><td>3</td><td>5</td></tr>\n",
       "\t<tr><th scope=row>2</th><td>2</td><td>4</td><td>6</td></tr>\n",
       "</tbody>\n",
       "</table>\n"
      ],
      "text/latex": [
       "A matrix: 2 × 3 of type int\n",
       "\\begin{tabular}{r|lll}\n",
       "  & a & b & c\\\\\n",
       "\\hline\n",
       "\t1 & 1 & 3 & 5\\\\\n",
       "\t2 & 2 & 4 & 6\\\\\n",
       "\\end{tabular}\n"
      ],
      "text/markdown": [
       "\n",
       "A matrix: 2 × 3 of type int\n",
       "\n",
       "| <!--/--> | a | b | c |\n",
       "|---|---|---|---|\n",
       "| 1 | 1 | 3 | 5 |\n",
       "| 2 | 2 | 4 | 6 |\n",
       "\n"
      ],
      "text/plain": [
       "  a b c\n",
       "1 1 3 5\n",
       "2 2 4 6"
      ]
     },
     "metadata": {},
     "output_type": "display_data"
    }
   ],
   "source": [
    "array(1:6, dim = c(2,3), dimnames = list(c(1,2),c('a','b','c')))"
   ]
  },
  {
   "cell_type": "markdown",
   "id": "06d59cdd-549a-417f-8f94-dc7db3f64aad",
   "metadata": {},
   "source": [
    "<span style=\"color:gray\">데이터 프레임마냥 행과 열에 이름도 붙일 수 있다.(사실상 데이터프레임이나 다름없긴 함)</span>"
   ]
  },
  {
   "cell_type": "code",
   "execution_count": 30,
   "id": "e3032950-c6d2-48d6-bbe9-9bc9fff7e4f0",
   "metadata": {},
   "outputs": [
    {
     "data": {
      "text/html": [
       "<table class=\"dataframe\">\n",
       "<caption>A matrix: 2 × 2 of type int</caption>\n",
       "<tbody>\n",
       "\t<tr><td>4</td><td>7</td></tr>\n",
       "\t<tr><td>5</td><td>8</td></tr>\n",
       "</tbody>\n",
       "</table>\n"
      ],
      "text/latex": [
       "A matrix: 2 × 2 of type int\n",
       "\\begin{tabular}{ll}\n",
       "\t 4 & 7\\\\\n",
       "\t 5 & 8\\\\\n",
       "\\end{tabular}\n"
      ],
      "text/markdown": [
       "\n",
       "A matrix: 2 × 2 of type int\n",
       "\n",
       "| 4 | 7 |\n",
       "| 5 | 8 |\n",
       "\n"
      ],
      "text/plain": [
       "     [,1] [,2]\n",
       "[1,] 4    7   \n",
       "[2,] 5    8   "
      ]
     },
     "metadata": {},
     "output_type": "display_data"
    }
   ],
   "source": [
    "array(1:9, dim = c(3,3))[1:2, 2:3]  ## 슬라이싱도 가능"
   ]
  },
  {
   "cell_type": "markdown",
   "id": "ee2e1ffd-21c3-4bc7-95b4-4fd273cbbf63",
   "metadata": {},
   "source": [
    "### **D. 수학함수**\n",
    "\n",
    "\n",
    "---\n",
    "\n",
    "\n",
    "\n"
   ]
  },
  {
   "cell_type": "markdown",
   "id": "767d9c1a-b788-4480-a12b-5402059490cb",
   "metadata": {},
   "source": [
    "> 수학적 변환이나 통계적 변환, 또는 벡터 등을 생성하는 함수들을 알아보자."
   ]
  },
  {
   "cell_type": "markdown",
   "id": "af4d2cc5-d846-47f4-8273-b008165e519c",
   "metadata": {},
   "source": [
    "* 수학함수"
   ]
  },
  {
   "cell_type": "code",
   "execution_count": 118,
   "id": "9c60c0a7-eb48-4370-9f45-e37b363d55c9",
   "metadata": {},
   "outputs": [
    {
     "data": {
      "text/html": [
       "1"
      ],
      "text/latex": [
       "1"
      ],
      "text/markdown": [
       "1"
      ],
      "text/plain": [
       "[1] 1"
      ]
     },
     "metadata": {},
     "output_type": "display_data"
    },
    {
     "data": {
      "text/html": [
       "-1"
      ],
      "text/latex": [
       "-1"
      ],
      "text/markdown": [
       "-1"
      ],
      "text/plain": [
       "[1] -1"
      ]
     },
     "metadata": {},
     "output_type": "display_data"
    },
    {
     "data": {
      "text/html": [
       "1"
      ],
      "text/latex": [
       "1"
      ],
      "text/markdown": [
       "1"
      ],
      "text/plain": [
       "[1] 1"
      ]
     },
     "metadata": {},
     "output_type": "display_data"
    }
   ],
   "source": [
    "sin(pi/2)  ## asin()도 있다. pi는 기본적으로 원주율이다.\n",
    "cos(pi)    ## acos()\n",
    "tan(pi/4)  ## atan()"
   ]
  },
  {
   "cell_type": "code",
   "execution_count": 124,
   "id": "45876f56-c8b9-4a92-a0dc-273120ff94f4",
   "metadata": {},
   "outputs": [
    {
     "data": {
      "text/html": [
       "2.71828182845905"
      ],
      "text/latex": [
       "2.71828182845905"
      ],
      "text/markdown": [
       "2.71828182845905"
      ],
      "text/plain": [
       "[1] 2.718282"
      ]
     },
     "metadata": {},
     "output_type": "display_data"
    },
    {
     "data": {
      "text/html": [
       "2"
      ],
      "text/latex": [
       "2"
      ],
      "text/markdown": [
       "2"
      ],
      "text/plain": [
       "[1] 2"
      ]
     },
     "metadata": {},
     "output_type": "display_data"
    },
    {
     "data": {
      "text/html": [
       "8"
      ],
      "text/latex": [
       "8"
      ],
      "text/markdown": [
       "8"
      ],
      "text/plain": [
       "[1] 8"
      ]
     },
     "metadata": {},
     "output_type": "display_data"
    }
   ],
   "source": [
    "exp(1)  ## 지수함수\n",
    "log(49, base = 7)  ## 디폴트는 자연로그(base = exp(1))\n",
    "sqrt(64)  ## 그냥 64**0.5를 해도 무방하긴 함..."
   ]
  },
  {
   "cell_type": "markdown",
   "id": "f940cda5-8388-4754-9b54-0340ed200fc7",
   "metadata": {},
   "source": [
    "* 집계함수"
   ]
  },
  {
   "cell_type": "markdown",
   "id": "fbfe3537-040a-4608-a06e-6179082e616d",
   "metadata": {},
   "source": [
    "먼저 아래와 같은 벡터가 있다고 하면..."
   ]
  },
  {
   "cell_type": "code",
   "execution_count": 15,
   "id": "89fc9495-1b48-4dad-a5e2-0cbaa46b5b8e",
   "metadata": {},
   "outputs": [],
   "source": [
    "x <- c(1,2,3,3,3,3,4,5)"
   ]
  },
  {
   "cell_type": "code",
   "execution_count": 16,
   "id": "4fe6ae37-147c-420a-a3af-5311576b54c5",
   "metadata": {},
   "outputs": [
    {
     "data": {
      "text/html": [
       "3"
      ],
      "text/latex": [
       "3"
      ],
      "text/markdown": [
       "3"
      ],
      "text/plain": [
       "[1] 3"
      ]
     },
     "metadata": {},
     "output_type": "display_data"
    },
    {
     "data": {
      "text/html": [
       "1.19522860933439"
      ],
      "text/latex": [
       "1.19522860933439"
      ],
      "text/markdown": [
       "1.19522860933439"
      ],
      "text/plain": [
       "[1] 1.195229"
      ]
     },
     "metadata": {},
     "output_type": "display_data"
    },
    {
     "data": {
      "text/html": [
       "1.42857142857143"
      ],
      "text/latex": [
       "1.42857142857143"
      ],
      "text/markdown": [
       "1.42857142857143"
      ],
      "text/plain": [
       "[1] 1.428571"
      ]
     },
     "metadata": {},
     "output_type": "display_data"
    },
    {
     "data": {
      "text/html": [
       "5"
      ],
      "text/latex": [
       "5"
      ],
      "text/markdown": [
       "5"
      ],
      "text/plain": [
       "[1] 5"
      ]
     },
     "metadata": {},
     "output_type": "display_data"
    },
    {
     "data": {
      "text/html": [
       "3"
      ],
      "text/latex": [
       "3"
      ],
      "text/markdown": [
       "3"
      ],
      "text/plain": [
       "[1] 3"
      ]
     },
     "metadata": {},
     "output_type": "display_data"
    },
    {
     "data": {
      "text/html": [
       "1"
      ],
      "text/latex": [
       "1"
      ],
      "text/markdown": [
       "1"
      ],
      "text/plain": [
       "[1] 1"
      ]
     },
     "metadata": {},
     "output_type": "display_data"
    },
    {
     "data": {
      "text/html": [
       "8"
      ],
      "text/latex": [
       "8"
      ],
      "text/markdown": [
       "8"
      ],
      "text/plain": [
       "[1] 8"
      ]
     },
     "metadata": {},
     "output_type": "display_data"
    }
   ],
   "source": [
    "mean(x)  ## 평균\n",
    "sd(x)    ## 표준편차\n",
    "var(x)   ## 분산\n",
    "max(x)   ## 최댓값\n",
    "median(x)  ## 중간값\n",
    "min(x)   ## 최솟값\n",
    "length(x)  ## 길이"
   ]
  },
  {
   "cell_type": "markdown",
   "id": "50561856-e073-4836-89c3-96c4f666a4cc",
   "metadata": {},
   "source": [
    "> 최빈값은 모듈로 없다."
   ]
  },
  {
   "cell_type": "code",
   "execution_count": 29,
   "id": "924a5c40-40de-4304-8062-976a3cd2fbe9",
   "metadata": {},
   "outputs": [
    {
     "data": {
      "text/html": [
       "3"
      ],
      "text/latex": [
       "3"
      ],
      "text/markdown": [
       "3"
      ],
      "text/plain": [
       "[1] 3"
      ]
     },
     "metadata": {},
     "output_type": "display_data"
    }
   ],
   "source": [
    "## 최빈값\n",
    "as.integer(names(table(x))[which(table(x) == max(table(x)))])  ## 이런 식으로 구현해야 한다."
   ]
  },
  {
   "cell_type": "markdown",
   "id": "9ba8ec22-f072-4255-8dba-2782cbc9170a",
   "metadata": {},
   "source": [
    "* 생성(?)함수"
   ]
  },
  {
   "cell_type": "code",
   "execution_count": 148,
   "id": "dfd1771e-198d-45de-bd04-3342f1e599c4",
   "metadata": {},
   "outputs": [
    {
     "data": {
      "text/html": [
       "<style>\n",
       ".list-inline {list-style: none; margin:0; padding: 0}\n",
       ".list-inline>li {display: inline-block}\n",
       ".list-inline>li:not(:last-child)::after {content: \"\\00b7\"; padding: 0 .5ex}\n",
       "</style>\n",
       "<ol class=list-inline><li>1</li><li>3</li><li>5</li><li>7</li><li>9</li></ol>\n"
      ],
      "text/latex": [
       "\\begin{enumerate*}\n",
       "\\item 1\n",
       "\\item 3\n",
       "\\item 5\n",
       "\\item 7\n",
       "\\item 9\n",
       "\\end{enumerate*}\n"
      ],
      "text/markdown": [
       "1. 1\n",
       "2. 3\n",
       "3. 5\n",
       "4. 7\n",
       "5. 9\n",
       "\n",
       "\n"
      ],
      "text/plain": [
       "[1] 1 3 5 7 9"
      ]
     },
     "metadata": {},
     "output_type": "display_data"
    },
    {
     "data": {
      "text/html": [
       "<style>\n",
       ".list-inline {list-style: none; margin:0; padding: 0}\n",
       ".list-inline>li {display: inline-block}\n",
       ".list-inline>li:not(:last-child)::after {content: \"\\00b7\"; padding: 0 .5ex}\n",
       "</style>\n",
       "<ol class=list-inline><li>1</li><li>4</li><li>7</li><li>10</li></ol>\n"
      ],
      "text/latex": [
       "\\begin{enumerate*}\n",
       "\\item 1\n",
       "\\item 4\n",
       "\\item 7\n",
       "\\item 10\n",
       "\\end{enumerate*}\n"
      ],
      "text/markdown": [
       "1. 1\n",
       "2. 4\n",
       "3. 7\n",
       "4. 10\n",
       "\n",
       "\n"
      ],
      "text/plain": [
       "[1]  1  4  7 10"
      ]
     },
     "metadata": {},
     "output_type": "display_data"
    },
    {
     "data": {
      "text/html": [
       "<style>\n",
       ".list-inline {list-style: none; margin:0; padding: 0}\n",
       ".list-inline>li {display: inline-block}\n",
       ".list-inline>li:not(:last-child)::after {content: \"\\00b7\"; padding: 0 .5ex}\n",
       "</style>\n",
       "<ol class=list-inline><li>'a'</li><li>'a'</li><li>'a'</li><li>'a'</li><li>'a'</li></ol>\n"
      ],
      "text/latex": [
       "\\begin{enumerate*}\n",
       "\\item 'a'\n",
       "\\item 'a'\n",
       "\\item 'a'\n",
       "\\item 'a'\n",
       "\\item 'a'\n",
       "\\end{enumerate*}\n"
      ],
      "text/markdown": [
       "1. 'a'\n",
       "2. 'a'\n",
       "3. 'a'\n",
       "4. 'a'\n",
       "5. 'a'\n",
       "\n",
       "\n"
      ],
      "text/plain": [
       "[1] \"a\" \"a\" \"a\" \"a\" \"a\""
      ]
     },
     "metadata": {},
     "output_type": "display_data"
    }
   ],
   "source": [
    "seq(from = 1, to = 10, by = 2)  ## 수열, 간격 지정\n",
    "seq(1, 10, length = 4)  ## 갯수 지정\n",
    "rep('a', 5)  ## 반복"
   ]
  },
  {
   "cell_type": "markdown",
   "id": "61a3768c-8cb7-482f-a680-f8f90b04a2ff",
   "metadata": {},
   "source": [
    "### **E. 행렬과 데이터프레임**\n",
    "\n",
    "\n",
    "---\n",
    "\n",
    "\n"
   ]
  },
  {
   "cell_type": "markdown",
   "id": "08cac37c-93de-4000-85c1-aaf4b3602a09",
   "metadata": {},
   "source": [
    "* 행렬"
   ]
  },
  {
   "cell_type": "code",
   "execution_count": 151,
   "id": "47827444-4b63-4552-8ec8-99b22dfe1ffa",
   "metadata": {},
   "outputs": [
    {
     "data": {
      "text/html": [
       "<table class=\"dataframe\">\n",
       "<caption>A matrix: 3 × 3 of type int</caption>\n",
       "<tbody>\n",
       "\t<tr><td>1</td><td>4</td><td>7</td></tr>\n",
       "\t<tr><td>2</td><td>5</td><td>8</td></tr>\n",
       "\t<tr><td>3</td><td>6</td><td>9</td></tr>\n",
       "</tbody>\n",
       "</table>\n"
      ],
      "text/latex": [
       "A matrix: 3 × 3 of type int\n",
       "\\begin{tabular}{lll}\n",
       "\t 1 & 4 & 7\\\\\n",
       "\t 2 & 5 & 8\\\\\n",
       "\t 3 & 6 & 9\\\\\n",
       "\\end{tabular}\n"
      ],
      "text/markdown": [
       "\n",
       "A matrix: 3 × 3 of type int\n",
       "\n",
       "| 1 | 4 | 7 |\n",
       "| 2 | 5 | 8 |\n",
       "| 3 | 6 | 9 |\n",
       "\n"
      ],
      "text/plain": [
       "     [,1] [,2] [,3]\n",
       "[1,] 1    4    7   \n",
       "[2,] 2    5    8   \n",
       "[3,] 3    6    9   "
      ]
     },
     "metadata": {},
     "output_type": "display_data"
    }
   ],
   "source": [
    "matrix(1:9, nrow = 3, byrow = FALSE)  ## byrow의 디폴트는 FALSE이다."
   ]
  },
  {
   "cell_type": "markdown",
   "id": "1e57c2a5-3ca0-43b2-932d-7ab2666d093f",
   "metadata": {},
   "source": [
    "> 벡터 데이터를 가져와서 행이나 열의 갯수를 정해주면 행렬이 나온다."
   ]
  },
  {
   "cell_type": "code",
   "execution_count": 164,
   "id": "995f70ff-1996-4600-85ea-868fcc0d13d9",
   "metadata": {},
   "outputs": [
    {
     "data": {
      "text/html": [
       "<style>\n",
       ".list-inline {list-style: none; margin:0; padding: 0}\n",
       ".list-inline>li {display: inline-block}\n",
       ".list-inline>li:not(:last-child)::after {content: \"\\00b7\"; padding: 0 .5ex}\n",
       "</style>\n",
       "<ol class=list-inline><li>3</li><li>3</li></ol>\n"
      ],
      "text/latex": [
       "\\begin{enumerate*}\n",
       "\\item 3\n",
       "\\item 3\n",
       "\\end{enumerate*}\n"
      ],
      "text/markdown": [
       "1. 3\n",
       "2. 3\n",
       "\n",
       "\n"
      ],
      "text/plain": [
       "[1] 3 3"
      ]
     },
     "metadata": {},
     "output_type": "display_data"
    },
    {
     "data": {
      "text/html": [
       "3"
      ],
      "text/latex": [
       "3"
      ],
      "text/markdown": [
       "3"
      ],
      "text/plain": [
       "[1] 3"
      ]
     },
     "metadata": {},
     "output_type": "display_data"
    },
    {
     "data": {
      "text/html": [
       "3"
      ],
      "text/latex": [
       "3"
      ],
      "text/markdown": [
       "3"
      ],
      "text/plain": [
       "[1] 3"
      ]
     },
     "metadata": {},
     "output_type": "display_data"
    },
    {
     "data": {
      "text/html": [
       "<style>\n",
       ".list-inline {list-style: none; margin:0; padding: 0}\n",
       ".list-inline>li {display: inline-block}\n",
       ".list-inline>li:not(:last-child)::after {content: \"\\00b7\"; padding: 0 .5ex}\n",
       "</style>\n",
       "<ol class=list-inline><li>1</li><li>9</li><li>21</li></ol>\n"
      ],
      "text/latex": [
       "\\begin{enumerate*}\n",
       "\\item 1\n",
       "\\item 9\n",
       "\\item 21\n",
       "\\end{enumerate*}\n"
      ],
      "text/markdown": [
       "1. 1\n",
       "2. 9\n",
       "3. 21\n",
       "\n",
       "\n"
      ],
      "text/plain": [
       "[1]  1  9 21"
      ]
     },
     "metadata": {},
     "output_type": "display_data"
    }
   ],
   "source": [
    "A <- matrix(c(1,7,3,8,9,11,2,3,21), nrow = 3, byrow = TRUE)\n",
    "dim(A)  ## 차원\n",
    "nrow(A)  ## 행의 갯수\n",
    "ncol(A)  ## 열의 갯수\n",
    "diag(A)  ## 대각원소, 역으로 대각행렬을 산출할 수도 있음."
   ]
  },
  {
   "cell_type": "code",
   "execution_count": 168,
   "id": "018391e7-ceb3-4395-8f2a-cc70cb30f662",
   "metadata": {},
   "outputs": [
    {
     "data": {
      "text/html": [
       "<table class=\"dataframe\">\n",
       "<caption>A matrix: 3 × 3 of type dbl</caption>\n",
       "<tbody>\n",
       "\t<tr><td>1</td><td> 8</td><td> 2</td></tr>\n",
       "\t<tr><td>7</td><td> 9</td><td> 3</td></tr>\n",
       "\t<tr><td>3</td><td>11</td><td>21</td></tr>\n",
       "</tbody>\n",
       "</table>\n"
      ],
      "text/latex": [
       "A matrix: 3 × 3 of type dbl\n",
       "\\begin{tabular}{lll}\n",
       "\t 1 &  8 &  2\\\\\n",
       "\t 7 &  9 &  3\\\\\n",
       "\t 3 & 11 & 21\\\\\n",
       "\\end{tabular}\n"
      ],
      "text/markdown": [
       "\n",
       "A matrix: 3 × 3 of type dbl\n",
       "\n",
       "| 1 |  8 |  2 |\n",
       "| 7 |  9 |  3 |\n",
       "| 3 | 11 | 21 |\n",
       "\n"
      ],
      "text/plain": [
       "     [,1] [,2] [,3]\n",
       "[1,] 1     8    2  \n",
       "[2,] 7     9    3  \n",
       "[3,] 3    11   21  "
      ]
     },
     "metadata": {},
     "output_type": "display_data"
    },
    {
     "data": {
      "text/html": [
       "-847.999999999999"
      ],
      "text/latex": [
       "-847.999999999999"
      ],
      "text/markdown": [
       "-847.999999999999"
      ],
      "text/plain": [
       "[1] -848"
      ]
     },
     "metadata": {},
     "output_type": "display_data"
    },
    {
     "data": {
      "text/html": [
       "<table class=\"dataframe\">\n",
       "<caption>A matrix: 3 × 3 of type dbl</caption>\n",
       "<tbody>\n",
       "\t<tr><td>-0.183962264</td><td> 0.16273585</td><td>-0.05896226</td></tr>\n",
       "\t<tr><td> 0.172169811</td><td>-0.01768868</td><td>-0.01533019</td></tr>\n",
       "\t<tr><td>-0.007075472</td><td>-0.01297170</td><td> 0.05542453</td></tr>\n",
       "</tbody>\n",
       "</table>\n"
      ],
      "text/latex": [
       "A matrix: 3 × 3 of type dbl\n",
       "\\begin{tabular}{lll}\n",
       "\t -0.183962264 &  0.16273585 & -0.05896226\\\\\n",
       "\t  0.172169811 & -0.01768868 & -0.01533019\\\\\n",
       "\t -0.007075472 & -0.01297170 &  0.05542453\\\\\n",
       "\\end{tabular}\n"
      ],
      "text/markdown": [
       "\n",
       "A matrix: 3 × 3 of type dbl\n",
       "\n",
       "| -0.183962264 |  0.16273585 | -0.05896226 |\n",
       "|  0.172169811 | -0.01768868 | -0.01533019 |\n",
       "| -0.007075472 | -0.01297170 |  0.05542453 |\n",
       "\n"
      ],
      "text/plain": [
       "     [,1]         [,2]        [,3]       \n",
       "[1,] -0.183962264  0.16273585 -0.05896226\n",
       "[2,]  0.172169811 -0.01768868 -0.01533019\n",
       "[3,] -0.007075472 -0.01297170  0.05542453"
      ]
     },
     "metadata": {},
     "output_type": "display_data"
    },
    {
     "data": {
      "text/html": [
       "<table class=\"dataframe\">\n",
       "<caption>A matrix: 3 × 3 of type dbl</caption>\n",
       "<tbody>\n",
       "\t<tr><td>1</td><td>0</td><td>0</td></tr>\n",
       "\t<tr><td>0</td><td>1</td><td>0</td></tr>\n",
       "\t<tr><td>0</td><td>0</td><td>1</td></tr>\n",
       "</tbody>\n",
       "</table>\n"
      ],
      "text/latex": [
       "A matrix: 3 × 3 of type dbl\n",
       "\\begin{tabular}{lll}\n",
       "\t 1 & 0 & 0\\\\\n",
       "\t 0 & 1 & 0\\\\\n",
       "\t 0 & 0 & 1\\\\\n",
       "\\end{tabular}\n"
      ],
      "text/markdown": [
       "\n",
       "A matrix: 3 × 3 of type dbl\n",
       "\n",
       "| 1 | 0 | 0 |\n",
       "| 0 | 1 | 0 |\n",
       "| 0 | 0 | 1 |\n",
       "\n"
      ],
      "text/plain": [
       "     [,1] [,2] [,3]\n",
       "[1,] 1    0    0   \n",
       "[2,] 0    1    0   \n",
       "[3,] 0    0    1   "
      ]
     },
     "metadata": {},
     "output_type": "display_data"
    }
   ],
   "source": [
    "t(A)  ## transition\n",
    "det(A)  ## determinant\n",
    "solve(A)  ## inverse matrix\n",
    "round(A%*%solve(A), 5)  ## 행렬곱"
   ]
  },
  {
   "cell_type": "code",
   "execution_count": 170,
   "id": "7790ec34-8fea-48f6-9ea3-0c4feceaa262",
   "metadata": {},
   "outputs": [
    {
     "data": {
      "text/html": [
       "<table class=\"dataframe\">\n",
       "<caption>A matrix: 3 × 6 of type dbl</caption>\n",
       "<tbody>\n",
       "\t<tr><td>1</td><td>7</td><td> 3</td><td>-0.183962264</td><td> 0.16273585</td><td>-0.05896226</td></tr>\n",
       "\t<tr><td>8</td><td>9</td><td>11</td><td> 0.172169811</td><td>-0.01768868</td><td>-0.01533019</td></tr>\n",
       "\t<tr><td>2</td><td>3</td><td>21</td><td>-0.007075472</td><td>-0.01297170</td><td> 0.05542453</td></tr>\n",
       "</tbody>\n",
       "</table>\n"
      ],
      "text/latex": [
       "A matrix: 3 × 6 of type dbl\n",
       "\\begin{tabular}{llllll}\n",
       "\t 1 & 7 &  3 & -0.183962264 &  0.16273585 & -0.05896226\\\\\n",
       "\t 8 & 9 & 11 &  0.172169811 & -0.01768868 & -0.01533019\\\\\n",
       "\t 2 & 3 & 21 & -0.007075472 & -0.01297170 &  0.05542453\\\\\n",
       "\\end{tabular}\n"
      ],
      "text/markdown": [
       "\n",
       "A matrix: 3 × 6 of type dbl\n",
       "\n",
       "| 1 | 7 |  3 | -0.183962264 |  0.16273585 | -0.05896226 |\n",
       "| 8 | 9 | 11 |  0.172169811 | -0.01768868 | -0.01533019 |\n",
       "| 2 | 3 | 21 | -0.007075472 | -0.01297170 |  0.05542453 |\n",
       "\n"
      ],
      "text/plain": [
       "     [,1] [,2] [,3] [,4]         [,5]        [,6]       \n",
       "[1,] 1    7     3   -0.183962264  0.16273585 -0.05896226\n",
       "[2,] 8    9    11    0.172169811 -0.01768868 -0.01533019\n",
       "[3,] 2    3    21   -0.007075472 -0.01297170  0.05542453"
      ]
     },
     "metadata": {},
     "output_type": "display_data"
    },
    {
     "data": {
      "text/html": [
       "<table class=\"dataframe\">\n",
       "<caption>A matrix: 6 × 3 of type dbl</caption>\n",
       "<tbody>\n",
       "\t<tr><td> 1.000000000</td><td> 7.00000000</td><td> 3.00000000</td></tr>\n",
       "\t<tr><td> 8.000000000</td><td> 9.00000000</td><td>11.00000000</td></tr>\n",
       "\t<tr><td> 2.000000000</td><td> 3.00000000</td><td>21.00000000</td></tr>\n",
       "\t<tr><td>-0.183962264</td><td> 0.16273585</td><td>-0.05896226</td></tr>\n",
       "\t<tr><td> 0.172169811</td><td>-0.01768868</td><td>-0.01533019</td></tr>\n",
       "\t<tr><td>-0.007075472</td><td>-0.01297170</td><td> 0.05542453</td></tr>\n",
       "</tbody>\n",
       "</table>\n"
      ],
      "text/latex": [
       "A matrix: 6 × 3 of type dbl\n",
       "\\begin{tabular}{lll}\n",
       "\t  1.000000000 &  7.00000000 &  3.00000000\\\\\n",
       "\t  8.000000000 &  9.00000000 & 11.00000000\\\\\n",
       "\t  2.000000000 &  3.00000000 & 21.00000000\\\\\n",
       "\t -0.183962264 &  0.16273585 & -0.05896226\\\\\n",
       "\t  0.172169811 & -0.01768868 & -0.01533019\\\\\n",
       "\t -0.007075472 & -0.01297170 &  0.05542453\\\\\n",
       "\\end{tabular}\n"
      ],
      "text/markdown": [
       "\n",
       "A matrix: 6 × 3 of type dbl\n",
       "\n",
       "|  1.000000000 |  7.00000000 |  3.00000000 |\n",
       "|  8.000000000 |  9.00000000 | 11.00000000 |\n",
       "|  2.000000000 |  3.00000000 | 21.00000000 |\n",
       "| -0.183962264 |  0.16273585 | -0.05896226 |\n",
       "|  0.172169811 | -0.01768868 | -0.01533019 |\n",
       "| -0.007075472 | -0.01297170 |  0.05542453 |\n",
       "\n"
      ],
      "text/plain": [
       "     [,1]         [,2]        [,3]       \n",
       "[1,]  1.000000000  7.00000000  3.00000000\n",
       "[2,]  8.000000000  9.00000000 11.00000000\n",
       "[3,]  2.000000000  3.00000000 21.00000000\n",
       "[4,] -0.183962264  0.16273585 -0.05896226\n",
       "[5,]  0.172169811 -0.01768868 -0.01533019\n",
       "[6,] -0.007075472 -0.01297170  0.05542453"
      ]
     },
     "metadata": {},
     "output_type": "display_data"
    }
   ],
   "source": [
    "cbind(A, solve(A))  ## 열로 concat\n",
    "rbind(A, solve(A))  ## 행으로 concat"
   ]
  },
  {
   "cell_type": "code",
   "execution_count": 172,
   "id": "c399786c-0f67-42b5-ab43-1c76bdfc0851",
   "metadata": {},
   "outputs": [
    {
     "data": {
      "text/html": [
       "<table class=\"dataframe\">\n",
       "<caption>A matrix: 3 × 3 of type dbl</caption>\n",
       "<thead>\n",
       "\t<tr><th></th><th scope=col>col1</th><th scope=col>col2</th><th scope=col>col3</th></tr>\n",
       "</thead>\n",
       "<tbody>\n",
       "\t<tr><th scope=row>row1</th><td>1</td><td>7</td><td> 3</td></tr>\n",
       "\t<tr><th scope=row>row2</th><td>8</td><td>9</td><td>11</td></tr>\n",
       "\t<tr><th scope=row>row3</th><td>2</td><td>3</td><td>21</td></tr>\n",
       "</tbody>\n",
       "</table>\n"
      ],
      "text/latex": [
       "A matrix: 3 × 3 of type dbl\n",
       "\\begin{tabular}{r|lll}\n",
       "  & col1 & col2 & col3\\\\\n",
       "\\hline\n",
       "\trow1 & 1 & 7 &  3\\\\\n",
       "\trow2 & 8 & 9 & 11\\\\\n",
       "\trow3 & 2 & 3 & 21\\\\\n",
       "\\end{tabular}\n"
      ],
      "text/markdown": [
       "\n",
       "A matrix: 3 × 3 of type dbl\n",
       "\n",
       "| <!--/--> | col1 | col2 | col3 |\n",
       "|---|---|---|---|\n",
       "| row1 | 1 | 7 |  3 |\n",
       "| row2 | 8 | 9 | 11 |\n",
       "| row3 | 2 | 3 | 21 |\n",
       "\n"
      ],
      "text/plain": [
       "     col1 col2 col3\n",
       "row1 1    7     3  \n",
       "row2 8    9    11  \n",
       "row3 2    3    21  "
      ]
     },
     "metadata": {},
     "output_type": "display_data"
    }
   ],
   "source": [
    "rownames(A) <- c('row1', 'row2', 'row3')  ## 잘 안씀\n",
    "colnames(A) <- c('col1','col2','col3')\n",
    "A"
   ]
  },
  {
   "cell_type": "markdown",
   "id": "c28731d9-1275-440b-b23c-6f1b8ef3a90f",
   "metadata": {},
   "source": [
    "* 데이터프레임"
   ]
  },
  {
   "cell_type": "code",
   "execution_count": null,
   "id": "accbced8-b625-492b-b171-b60c4c0f8142",
   "metadata": {},
   "outputs": [],
   "source": []
  },
  {
   "cell_type": "markdown",
   "id": "8b46d4a0-3055-415d-a4bd-8b28f97c3754",
   "metadata": {},
   "source": [
    "### **F. 통계적 분포**\n",
    "\n",
    "\n",
    "---\n",
    "\n",
    "\n"
   ]
  },
  {
   "cell_type": "markdown",
   "id": "3b1a0a85-e97c-40b5-851b-b06ed7cd61a8",
   "metadata": {},
   "source": [
    "> 분포마다 파라미터는 조금씩 다르지만, 함수의 이름이 지어지는 원리는 동일하다."
   ]
  },
  {
   "cell_type": "markdown",
   "id": "167c7a53-e4a9-4577-a10b-c69a45c15472",
   "metadata": {},
   "source": [
    "* output random number(분포에 따른 무작위 숫자 산출)"
   ]
  },
  {
   "cell_type": "code",
   "execution_count": 208,
   "id": "5ef60fd1-74a3-4fc3-b6fc-571c9f983a31",
   "metadata": {},
   "outputs": [
    {
     "data": {
      "text/html": [
       "-0.235364223846143"
      ],
      "text/latex": [
       "-0.235364223846143"
      ],
      "text/markdown": [
       "-0.235364223846143"
      ],
      "text/plain": [
       "[1] -0.2353642"
      ]
     },
     "metadata": {},
     "output_type": "display_data"
    },
    {
     "data": {
      "text/html": [
       "1.40491627566088"
      ],
      "text/latex": [
       "1.40491627566088"
      ],
      "text/markdown": [
       "1.40491627566088"
      ],
      "text/plain": [
       "[1] 1.404916"
      ]
     },
     "metadata": {},
     "output_type": "display_data"
    },
    {
     "data": {
      "text/html": [
       "0.0678379517048597"
      ],
      "text/latex": [
       "0.0678379517048597"
      ],
      "text/markdown": [
       "0.0678379517048597"
      ],
      "text/plain": [
       "[1] 0.06783795"
      ]
     },
     "metadata": {},
     "output_type": "display_data"
    },
    {
     "data": {
      "text/html": [
       "67.1548649869233"
      ],
      "text/latex": [
       "67.1548649869233"
      ],
      "text/markdown": [
       "67.1548649869233"
      ],
      "text/plain": [
       "[1] 67.15486"
      ]
     },
     "metadata": {},
     "output_type": "display_data"
    },
    {
     "data": {
      "text/html": [
       "0.826528465359129"
      ],
      "text/latex": [
       "0.826528465359129"
      ],
      "text/markdown": [
       "0.826528465359129"
      ],
      "text/plain": [
       "[1] 0.8265285"
      ]
     },
     "metadata": {},
     "output_type": "display_data"
    },
    {
     "data": {
      "text/html": [
       "<style>\n",
       ".list-inline {list-style: none; margin:0; padding: 0}\n",
       ".list-inline>li {display: inline-block}\n",
       ".list-inline>li:not(:last-child)::after {content: \"\\00b7\"; padding: 0 .5ex}\n",
       "</style>\n",
       "<ol class=list-inline><li>3</li><li>2</li><li>3</li><li>3</li><li>2</li><li>2</li><li>3</li><li>3</li><li>4</li><li>2</li></ol>\n"
      ],
      "text/latex": [
       "\\begin{enumerate*}\n",
       "\\item 3\n",
       "\\item 2\n",
       "\\item 3\n",
       "\\item 3\n",
       "\\item 2\n",
       "\\item 2\n",
       "\\item 3\n",
       "\\item 3\n",
       "\\item 4\n",
       "\\item 2\n",
       "\\end{enumerate*}\n"
      ],
      "text/markdown": [
       "1. 3\n",
       "2. 2\n",
       "3. 3\n",
       "4. 3\n",
       "5. 2\n",
       "6. 2\n",
       "7. 3\n",
       "8. 3\n",
       "9. 4\n",
       "10. 2\n",
       "\n",
       "\n"
      ],
      "text/plain": [
       " [1] 3 2 3 3 2 2 3 3 4 2"
      ]
     },
     "metadata": {},
     "output_type": "display_data"
    },
    {
     "data": {
      "text/html": [
       "5"
      ],
      "text/latex": [
       "5"
      ],
      "text/markdown": [
       "5"
      ],
      "text/plain": [
       "[1] 5"
      ]
     },
     "metadata": {},
     "output_type": "display_data"
    },
    {
     "data": {
      "text/html": [
       "0.409051089344506"
      ],
      "text/latex": [
       "0.409051089344506"
      ],
      "text/markdown": [
       "0.409051089344506"
      ],
      "text/plain": [
       "[1] 0.4090511"
      ]
     },
     "metadata": {},
     "output_type": "display_data"
    },
    {
     "data": {
      "text/html": [
       "0.156511356764008"
      ],
      "text/latex": [
       "0.156511356764008"
      ],
      "text/markdown": [
       "0.156511356764008"
      ],
      "text/plain": [
       "[1] 0.1565114"
      ]
     },
     "metadata": {},
     "output_type": "display_data"
    }
   ],
   "source": [
    "rnorm(n = 1, mean = 0, sd = 1)  ## 표준정규분포\n",
    "rt(n = 1, df = 8)  ## t분포\n",
    "runif(n = 1, min = 0, max = 1)  ## 균일분포\n",
    "rchisq(n = 1, df = 50)  ## 카이제곱분포\n",
    "rf(n = 1, df1 = 5, df2 = 20)  ## f분포\n",
    "rbinom(n = 10, size = 5, prob = 0.5)  ## 이항분포\n",
    "rpois(n = 1, lambda = 5)  ## 포아송분포\n",
    "rexp(n = 1, rate = 5)  ## 지수분포\n",
    "rgamma(n = 1, shape = 1, rate = 5)  ## 감마분포(사실상 지수분포)\n",
    "## 등등..."
   ]
  },
  {
   "cell_type": "markdown",
   "id": "ffacec45-e38b-43a8-bbde-184cb37f058d",
   "metadata": {},
   "source": [
    "* 확률밀도함수의 y값 산출(probability **D**ensity function)"
   ]
  },
  {
   "cell_type": "code",
   "execution_count": 203,
   "id": "4e17a866-5d0b-4fdb-9054-369b753efad5",
   "metadata": {},
   "outputs": [
    {
     "data": {
      "text/html": [
       "0.398942280401433"
      ],
      "text/latex": [
       "0.398942280401433"
      ],
      "text/markdown": [
       "0.398942280401433"
      ],
      "text/plain": [
       "[1] 0.3989423"
      ]
     },
     "metadata": {},
     "output_type": "display_data"
    }
   ],
   "source": [
    "dnorm(x = 0, mean = 0, sd = 1)  ## pdf의 y값, 여긴 x를 넣음"
   ]
  },
  {
   "cell_type": "markdown",
   "id": "dfb773f8-9b1a-4d18-94b9-057c211b7b72",
   "metadata": {},
   "source": [
    "* 누적분포함수의 y값 산출(**P**robability distribution function)"
   ]
  },
  {
   "cell_type": "code",
   "execution_count": 205,
   "id": "1a13f4dd-91a6-4fba-8a57-5de888367c94",
   "metadata": {},
   "outputs": [
    {
     "data": {
      "text/html": [
       "0.5"
      ],
      "text/latex": [
       "0.5"
      ],
      "text/markdown": [
       "0.5"
      ],
      "text/plain": [
       "[1] 0.5"
      ]
     },
     "metadata": {},
     "output_type": "display_data"
    }
   ],
   "source": [
    "pnorm(q = 0, mean = 0, sd = 1)  ## 여긴 quantile값을 넣어야 한다."
   ]
  },
  {
   "cell_type": "markdown",
   "id": "4487e8e9-c7cb-4710-aa93-3200f5e74014",
   "metadata": {},
   "source": [
    "* 좌측 면적에 따른 분위수(**Q**uantile) 산출"
   ]
  },
  {
   "cell_type": "code",
   "execution_count": 207,
   "id": "24683117-7eb7-4f2f-ae07-b4116dbf1c1a",
   "metadata": {},
   "outputs": [
    {
     "data": {
      "text/html": [
       "1.64485362695147"
      ],
      "text/latex": [
       "1.64485362695147"
      ],
      "text/markdown": [
       "1.64485362695147"
      ],
      "text/plain": [
       "[1] 1.644854"
      ]
     },
     "metadata": {},
     "output_type": "display_data"
    }
   ],
   "source": [
    "qnorm(p = 0.05, mean = 0, sd = 1, lower.tail = FALSE)  ## 확률을 넣어준다."
   ]
  },
  {
   "cell_type": "markdown",
   "id": "6e1de714-b1e0-4cac-a9c3-6f9bf3347b84",
   "metadata": {},
   "source": [
    "> 기본적으로 좌측 면적부터 취급하므로, lower.tail옵션을 FALSE로 택해 우측 면적을 기준으로 구할 수 있다."
   ]
  },
  {
   "cell_type": "markdown",
   "id": "4f5c8bdb-1ca9-4ee3-b28b-c0eaa575aa0a",
   "metadata": {},
   "source": [
    "### **G. 논리 연산**\n",
    "\n",
    "\n",
    "---\n",
    "\n",
    "\n"
   ]
  },
  {
   "cell_type": "markdown",
   "id": "ba536187-87cf-40e5-b46d-645f78590421",
   "metadata": {},
   "source": [
    "* 논리 연산자"
   ]
  },
  {
   "cell_type": "markdown",
   "id": "c86d2917-bb2d-4ce2-bbda-e5b783d54af4",
   "metadata": {},
   "source": [
    "> 기본적인 논리연산자를 사용한다."
   ]
  },
  {
   "cell_type": "code",
   "execution_count": 210,
   "id": "989abfae-3c99-43b8-a447-4b5cc062efc7",
   "metadata": {},
   "outputs": [],
   "source": [
    "x <- c(1,3,4,8,9)"
   ]
  },
  {
   "cell_type": "code",
   "execution_count": 220,
   "id": "a569b66d-7a3e-43f8-b744-5e9c75b144de",
   "metadata": {},
   "outputs": [
    {
     "data": {
      "text/html": [
       "<style>\n",
       ".list-inline {list-style: none; margin:0; padding: 0}\n",
       ".list-inline>li {display: inline-block}\n",
       ".list-inline>li:not(:last-child)::after {content: \"\\00b7\"; padding: 0 .5ex}\n",
       "</style>\n",
       "<ol class=list-inline><li>TRUE</li><li>TRUE</li><li>FALSE</li><li>FALSE</li><li>FALSE</li></ol>\n"
      ],
      "text/latex": [
       "\\begin{enumerate*}\n",
       "\\item TRUE\n",
       "\\item TRUE\n",
       "\\item FALSE\n",
       "\\item FALSE\n",
       "\\item FALSE\n",
       "\\end{enumerate*}\n"
      ],
      "text/markdown": [
       "1. TRUE\n",
       "2. TRUE\n",
       "3. FALSE\n",
       "4. FALSE\n",
       "5. FALSE\n",
       "\n",
       "\n"
      ],
      "text/plain": [
       "[1]  TRUE  TRUE FALSE FALSE FALSE"
      ]
     },
     "metadata": {},
     "output_type": "display_data"
    },
    {
     "data": {
      "text/html": [
       "<style>\n",
       ".list-inline {list-style: none; margin:0; padding: 0}\n",
       ".list-inline>li {display: inline-block}\n",
       ".list-inline>li:not(:last-child)::after {content: \"\\00b7\"; padding: 0 .5ex}\n",
       "</style>\n",
       "<ol class=list-inline><li>TRUE</li><li>TRUE</li><li>TRUE</li><li>FALSE</li><li>FALSE</li></ol>\n"
      ],
      "text/latex": [
       "\\begin{enumerate*}\n",
       "\\item TRUE\n",
       "\\item TRUE\n",
       "\\item TRUE\n",
       "\\item FALSE\n",
       "\\item FALSE\n",
       "\\end{enumerate*}\n"
      ],
      "text/markdown": [
       "1. TRUE\n",
       "2. TRUE\n",
       "3. TRUE\n",
       "4. FALSE\n",
       "5. FALSE\n",
       "\n",
       "\n"
      ],
      "text/plain": [
       "[1]  TRUE  TRUE  TRUE FALSE FALSE"
      ]
     },
     "metadata": {},
     "output_type": "display_data"
    },
    {
     "data": {
      "text/html": [
       "<style>\n",
       ".list-inline {list-style: none; margin:0; padding: 0}\n",
       ".list-inline>li {display: inline-block}\n",
       ".list-inline>li:not(:last-child)::after {content: \"\\00b7\"; padding: 0 .5ex}\n",
       "</style>\n",
       "<ol class=list-inline><li>FALSE</li><li>FALSE</li><li>TRUE</li><li>TRUE</li><li>TRUE</li></ol>\n"
      ],
      "text/latex": [
       "\\begin{enumerate*}\n",
       "\\item FALSE\n",
       "\\item FALSE\n",
       "\\item TRUE\n",
       "\\item TRUE\n",
       "\\item TRUE\n",
       "\\end{enumerate*}\n"
      ],
      "text/markdown": [
       "1. FALSE\n",
       "2. FALSE\n",
       "3. TRUE\n",
       "4. TRUE\n",
       "5. TRUE\n",
       "\n",
       "\n"
      ],
      "text/plain": [
       "[1] FALSE FALSE  TRUE  TRUE  TRUE"
      ]
     },
     "metadata": {},
     "output_type": "display_data"
    },
    {
     "data": {
      "text/html": [
       "<style>\n",
       ".list-inline {list-style: none; margin:0; padding: 0}\n",
       ".list-inline>li {display: inline-block}\n",
       ".list-inline>li:not(:last-child)::after {content: \"\\00b7\"; padding: 0 .5ex}\n",
       "</style>\n",
       "<ol class=list-inline><li>FALSE</li><li>FALSE</li><li>TRUE</li><li>FALSE</li><li>FALSE</li></ol>\n"
      ],
      "text/latex": [
       "\\begin{enumerate*}\n",
       "\\item FALSE\n",
       "\\item FALSE\n",
       "\\item TRUE\n",
       "\\item FALSE\n",
       "\\item FALSE\n",
       "\\end{enumerate*}\n"
      ],
      "text/markdown": [
       "1. FALSE\n",
       "2. FALSE\n",
       "3. TRUE\n",
       "4. FALSE\n",
       "5. FALSE\n",
       "\n",
       "\n"
      ],
      "text/plain": [
       "[1] FALSE FALSE  TRUE FALSE FALSE"
      ]
     },
     "metadata": {},
     "output_type": "display_data"
    },
    {
     "data": {
      "text/html": [
       "<style>\n",
       ".list-inline {list-style: none; margin:0; padding: 0}\n",
       ".list-inline>li {display: inline-block}\n",
       ".list-inline>li:not(:last-child)::after {content: \"\\00b7\"; padding: 0 .5ex}\n",
       "</style>\n",
       "<ol class=list-inline><li>TRUE</li><li>TRUE</li><li>FALSE</li><li>TRUE</li><li>TRUE</li></ol>\n"
      ],
      "text/latex": [
       "\\begin{enumerate*}\n",
       "\\item TRUE\n",
       "\\item TRUE\n",
       "\\item FALSE\n",
       "\\item TRUE\n",
       "\\item TRUE\n",
       "\\end{enumerate*}\n"
      ],
      "text/markdown": [
       "1. TRUE\n",
       "2. TRUE\n",
       "3. FALSE\n",
       "4. TRUE\n",
       "5. TRUE\n",
       "\n",
       "\n"
      ],
      "text/plain": [
       "[1]  TRUE  TRUE FALSE  TRUE  TRUE"
      ]
     },
     "metadata": {},
     "output_type": "display_data"
    }
   ],
   "source": [
    "x < 4  ## 해당하는 값은 True\n",
    "x <= 4\n",
    "!(x < 4)  ## 여집합\n",
    "x == 4\n",
    "x != 4"
   ]
  },
  {
   "cell_type": "code",
   "execution_count": 216,
   "id": "fe1ed658-0cd6-4e9f-8e99-ec84f68bc393",
   "metadata": {},
   "outputs": [
    {
     "data": {
      "text/html": [
       "<style>\n",
       ".list-inline {list-style: none; margin:0; padding: 0}\n",
       ".list-inline>li {display: inline-block}\n",
       ".list-inline>li:not(:last-child)::after {content: \"\\00b7\"; padding: 0 .5ex}\n",
       "</style>\n",
       "<ol class=list-inline><li>TRUE</li><li>TRUE</li><li>TRUE</li><li>TRUE</li><li>TRUE</li></ol>\n"
      ],
      "text/latex": [
       "\\begin{enumerate*}\n",
       "\\item TRUE\n",
       "\\item TRUE\n",
       "\\item TRUE\n",
       "\\item TRUE\n",
       "\\item TRUE\n",
       "\\end{enumerate*}\n"
      ],
      "text/markdown": [
       "1. TRUE\n",
       "2. TRUE\n",
       "3. TRUE\n",
       "4. TRUE\n",
       "5. TRUE\n",
       "\n",
       "\n"
      ],
      "text/plain": [
       "[1] TRUE TRUE TRUE TRUE TRUE"
      ]
     },
     "metadata": {},
     "output_type": "display_data"
    },
    {
     "data": {
      "text/html": [
       "<style>\n",
       ".list-inline {list-style: none; margin:0; padding: 0}\n",
       ".list-inline>li {display: inline-block}\n",
       ".list-inline>li:not(:last-child)::after {content: \"\\00b7\"; padding: 0 .5ex}\n",
       "</style>\n",
       "<ol class=list-inline><li>FALSE</li><li>FALSE</li><li>TRUE</li><li>FALSE</li><li>FALSE</li></ol>\n"
      ],
      "text/latex": [
       "\\begin{enumerate*}\n",
       "\\item FALSE\n",
       "\\item FALSE\n",
       "\\item TRUE\n",
       "\\item FALSE\n",
       "\\item FALSE\n",
       "\\end{enumerate*}\n"
      ],
      "text/markdown": [
       "1. FALSE\n",
       "2. FALSE\n",
       "3. TRUE\n",
       "4. FALSE\n",
       "5. FALSE\n",
       "\n",
       "\n"
      ],
      "text/plain": [
       "[1] FALSE FALSE  TRUE FALSE FALSE"
      ]
     },
     "metadata": {},
     "output_type": "display_data"
    }
   ],
   "source": [
    "x > 3 | x <= 4  ## or\n",
    "x > 3 & x <= 4  ## and"
   ]
  },
  {
   "cell_type": "code",
   "execution_count": 217,
   "id": "a9f4af0c-432b-4210-b1e0-24f33082ab2e",
   "metadata": {},
   "outputs": [
    {
     "data": {
      "text/html": [
       "3"
      ],
      "text/latex": [
       "3"
      ],
      "text/markdown": [
       "3"
      ],
      "text/plain": [
       "[1] 3"
      ]
     },
     "metadata": {},
     "output_type": "display_data"
    }
   ],
   "source": [
    "which(x>3 & x<=4)  ## 몇 번째 값이 True인가?"
   ]
  },
  {
   "cell_type": "markdown",
   "id": "692d3ac3-5ac7-4a39-a215-9f328676d5e3",
   "metadata": {},
   "source": [
    "> `which()`함수를 이용하여 조건에 맞는 슬라이싱을 할 수 있다."
   ]
  },
  {
   "cell_type": "code",
   "execution_count": 218,
   "id": "e2c7ebf3-37aa-4f86-82b0-f404e4df3677",
   "metadata": {},
   "outputs": [
    {
     "data": {
      "text/html": [
       "4"
      ],
      "text/latex": [
       "4"
      ],
      "text/markdown": [
       "4"
      ],
      "text/plain": [
       "[1] 4"
      ]
     },
     "metadata": {},
     "output_type": "display_data"
    }
   ],
   "source": [
    "x[which(x>3 & x<=4)]"
   ]
  },
  {
   "cell_type": "markdown",
   "id": "66a218ea-cf3f-464c-b704-ff020a777188",
   "metadata": {},
   "source": [
    "* 조건문"
   ]
  },
  {
   "cell_type": "markdown",
   "id": "f44ad26a-ba09-4c76-9650-6496f021b571",
   "metadata": {},
   "source": [
    "> `if`와 `else`, `else if`를 사용한다. C#을 사용하듯 소괄호와 중괄호로 묶어준다."
   ]
  },
  {
   "cell_type": "code",
   "execution_count": 36,
   "id": "a4b99134-34aa-4e09-8da8-12f1ddbcc6d0",
   "metadata": {},
   "outputs": [
    {
     "name": "stdout",
     "output_type": "stream",
     "text": [
      "[1] \"x는 양수입니다.\"\n"
     ]
    }
   ],
   "source": [
    "x = 1\n",
    "\n",
    "if (x > 0) {\n",
    "    print(\"x는 양수입니다.\")\n",
    "} else if (x < 0) {\n",
    "    print(\"x는 음수입니다.\")\n",
    "} else {\n",
    "    print(\"x는 0입니다.\")\n",
    "}"
   ]
  },
  {
   "cell_type": "markdown",
   "id": "0c52898f-5011-44e2-9f44-c4d17e86c3ea",
   "metadata": {},
   "source": [
    "> 단, 조건으로 묶여있는 코드의 경우 줄바꿈을 해서는 안된다."
   ]
  },
  {
   "cell_type": "markdown",
   "id": "3c6e03b1-9782-45d0-9464-05b67cf3a5b8",
   "metadata": {},
   "source": [
    "* 반복문"
   ]
  },
  {
   "cell_type": "markdown",
   "id": "482fa6b7-b0af-47ab-836e-9eea620de67f",
   "metadata": {},
   "source": [
    "> `for`문과 `while`문을 사용한다."
   ]
  }
 ],
 "metadata": {
  "kernelspec": {
   "display_name": "R",
   "language": "R",
   "name": "ir"
  },
  "language_info": {
   "codemirror_mode": "r",
   "file_extension": ".r",
   "mimetype": "text/x-r-source",
   "name": "R",
   "pygments_lexer": "r",
   "version": "4.3.3"
  }
 },
 "nbformat": 4,
 "nbformat_minor": 5
}
